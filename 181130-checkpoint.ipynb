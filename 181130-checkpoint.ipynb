{
 "cells": [
  {
   "cell_type": "markdown",
   "metadata": {},
   "source": [
    "# 蚂蚁又要爬杆杆了"
   ]
  },
  {
   "cell_type": "code",
   "execution_count": 9,
   "metadata": {
    "scrolled": true
   },
   "outputs": [
    {
     "name": "stdout",
     "output_type": "stream",
     "text": [
      "           *                                                        *           \r"
     ]
    },
    {
     "ename": "KeyboardInterrupt",
     "evalue": "",
     "output_type": "error",
     "traceback": [
      "\u001b[1;31m---------------------------------------------------------------------------\u001b[0m",
      "\u001b[1;31mKeyboardInterrupt\u001b[0m                         Traceback (most recent call last)",
      "\u001b[1;32m<ipython-input-9-be9a070a1fc4>\u001b[0m in \u001b[0;36m<module>\u001b[1;34m()\u001b[0m\n\u001b[0;32m     41\u001b[0m \u001b[1;32mwhile\u001b[0m \u001b[1;32mnot\u001b[0m \u001b[0mis_bar_empty\u001b[0m\u001b[1;33m(\u001b[0m\u001b[0mbar\u001b[0m\u001b[1;33m)\u001b[0m\u001b[1;33m:\u001b[0m\u001b[1;33m\u001b[0m\u001b[0m\n\u001b[0;32m     42\u001b[0m     \u001b[0mshow_bar\u001b[0m\u001b[1;33m(\u001b[0m\u001b[0mbar\u001b[0m\u001b[1;33m)\u001b[0m\u001b[1;33m\u001b[0m\u001b[0m\n\u001b[1;32m---> 43\u001b[1;33m     \u001b[0msleep\u001b[0m\u001b[1;33m(\u001b[0m\u001b[1;36m0.5\u001b[0m\u001b[1;33m)\u001b[0m\u001b[1;33m\u001b[0m\u001b[0m\n\u001b[0m\u001b[0;32m     44\u001b[0m     \u001b[0mupdate_ants\u001b[0m\u001b[1;33m(\u001b[0m\u001b[0mants\u001b[0m\u001b[1;33m)\u001b[0m\u001b[1;33m\u001b[0m\u001b[0m\n\u001b[0;32m     45\u001b[0m     \u001b[0mupdate_bar\u001b[0m\u001b[1;33m(\u001b[0m\u001b[0mbar\u001b[0m\u001b[1;33m,\u001b[0m \u001b[0mants\u001b[0m\u001b[1;33m)\u001b[0m\u001b[1;33m\u001b[0m\u001b[0m\n",
      "\u001b[1;31mKeyboardInterrupt\u001b[0m: "
     ]
    }
   ],
   "source": [
    "def init_bar(bar):\n",
    "    for i in range(0,80):\n",
    "        bar.append(' ')\n",
    "        \n",
    "def clear_bar(bar):\n",
    "    for i in range(0,len(bar)):\n",
    "        bar[i] = ' '\n",
    "\n",
    "def init_ants(ants):\n",
    "    ants.append({'position':0, 'direction':1})\n",
    "    ants.append({'position':79, 'direction':-1})\n",
    "\n",
    "def update_bar(bar, ants):\n",
    "    clear_bar(bar)\n",
    "    for ant in ants:\n",
    "        bar[ant['position']] = '*'\n",
    "\n",
    "def is_bar_empty(bar):\n",
    "    for item in bar:\n",
    "        if not item == ' ':\n",
    "            return False\n",
    "    return True\n",
    "\n",
    "def show_bar(bar):\n",
    "    for item in bar:\n",
    "        print(item, sep='', end='')\n",
    "    print('', end='\\r')\n",
    "        \n",
    "def update_ants(ants):\n",
    "    for ant in ants:\n",
    "        ant['position'] += ant['direction']\n",
    "\n",
    "from time import sleep\n",
    "bar = list()\n",
    "init_bar(bar)\n",
    "ants = list()\n",
    "init_ants(ants)\n",
    "\n",
    "\n",
    "update_bar(bar, ants)\n",
    "while not is_bar_empty(bar):\n",
    "    show_bar(bar)\n",
    "    sleep(0.5)\n",
    "    update_ants(ants)\n",
    "    update_bar(bar, ants)"
   ]
  },
  {
   "cell_type": "markdown",
   "metadata": {},
   "source": [
    "# 筛选类函数"
   ]
  },
  {
   "cell_type": "code",
   "execution_count": 10,
   "metadata": {},
   "outputs": [
    {
     "data": {
      "text/plain": [
       "1"
      ]
     },
     "execution_count": 10,
     "metadata": {},
     "output_type": "execute_result"
    }
   ],
   "source": [
    "'hello'.count('e')"
   ]
  },
  {
   "cell_type": "code",
   "execution_count": 11,
   "metadata": {},
   "outputs": [
    {
     "data": {
      "text/plain": [
       "2"
      ]
     },
     "execution_count": 11,
     "metadata": {},
     "output_type": "execute_result"
    }
   ],
   "source": [
    "[1, 2, 'e', 'o', 'e'].count('e')"
   ]
  },
  {
   "cell_type": "code",
   "execution_count": 12,
   "metadata": {},
   "outputs": [
    {
     "data": {
      "text/plain": [
       "2"
      ]
     },
     "execution_count": 12,
     "metadata": {},
     "output_type": "execute_result"
    }
   ],
   "source": [
    "#choose randomly\n",
    "from random import choice\n",
    "x = choice(['hello, world', [1, 2, 'e', 'o', 'e']])\n",
    "x.count('e')"
   ]
  },
  {
   "cell_type": "code",
   "execution_count": 13,
   "metadata": {},
   "outputs": [
    {
     "name": "stdout",
     "output_type": "stream",
     "text": [
      "hello, world!\n",
      "[1, 2, 'e', 'o', 'e', '!']\n"
     ]
    }
   ],
   "source": [
    "my_list = ['hello, world', [1, 2, 'e', 'o', 'e']]\n",
    "for item in my_list:\n",
    "    if isinstance(item, str): item += '!'\n",
    "    elif isinstance(item, list): item.append('!')\n",
    "    print(item)    "
   ]
  },
  {
   "cell_type": "markdown",
   "metadata": {},
   "source": [
    "# class"
   ]
  },
  {
   "cell_type": "markdown",
   "metadata": {},
   "source": [
    "## person"
   ]
  },
  {
   "cell_type": "code",
   "execution_count": 1,
   "metadata": {},
   "outputs": [
    {
     "name": "stdout",
     "output_type": "stream",
     "text": [
      "Hello, I'm Qu Zheng\n"
     ]
    }
   ],
   "source": [
    "class Person():\n",
    "    def set_name(self, name):\n",
    "        self.name = name\n",
    "    \n",
    "    def get_name(self):\n",
    "        return self.name\n",
    "    \n",
    "    def greet(self):\n",
    "        print(\"Hello, I'm {}\".format(self.name))\n",
    "        \n",
    "\n",
    "qz = Person()\n",
    "qz.set_name(\"Qu Zheng\")\n",
    "qz.greet()\n",
    "    \n"
   ]
  },
  {
   "cell_type": "markdown",
   "metadata": {},
   "source": [
    "## hiden"
   ]
  },
  {
   "cell_type": "code",
   "execution_count": 2,
   "metadata": {},
   "outputs": [
    {
     "name": "stdout",
     "output_type": "stream",
     "text": [
      "Hello, I'm Qu Zheng\n"
     ]
    }
   ],
   "source": [
    "\n",
    "class Person():\n",
    "    def set_name(self, name):\n",
    "        self.__name = name\n",
    "    \n",
    "    def get_name(self):\n",
    "        return self.__name\n",
    "    \n",
    "    def greet(self):\n",
    "        print(\"Hello, I'm {}\".format(self.__name))\n",
    "        \n",
    "\n",
    "qz = Person()\n",
    "qz.set_name(\"Qu Zheng\")\n",
    "qz.__name = 1\n",
    "qz.greet()\n",
    "    \n"
   ]
  },
  {
   "cell_type": "code",
   "execution_count": 3,
   "metadata": {},
   "outputs": [
    {
     "ename": "AttributeError",
     "evalue": "'Person' object has no attribute '__greet2'",
     "output_type": "error",
     "traceback": [
      "\u001b[1;31m---------------------------------------------------------------------------\u001b[0m",
      "\u001b[1;31mAttributeError\u001b[0m                            Traceback (most recent call last)",
      "\u001b[1;32m<ipython-input-3-800d5ee8fd60>\u001b[0m in \u001b[0;36m<module>\u001b[1;34m()\u001b[0m\n\u001b[0;32m     16\u001b[0m \u001b[0mqz\u001b[0m\u001b[1;33m.\u001b[0m\u001b[0mset_name\u001b[0m\u001b[1;33m(\u001b[0m\u001b[1;34m\"Qu Zheng\"\u001b[0m\u001b[1;33m)\u001b[0m\u001b[1;33m\u001b[0m\u001b[0m\n\u001b[0;32m     17\u001b[0m \u001b[1;33m\u001b[0m\u001b[0m\n\u001b[1;32m---> 18\u001b[1;33m \u001b[0mqz\u001b[0m\u001b[1;33m.\u001b[0m\u001b[0m__greet2\u001b[0m\u001b[1;33m(\u001b[0m\u001b[1;33m)\u001b[0m\u001b[1;33m\u001b[0m\u001b[0m\n\u001b[0m\u001b[0;32m     19\u001b[0m \u001b[1;33m\u001b[0m\u001b[0m\n",
      "\u001b[1;31mAttributeError\u001b[0m: 'Person' object has no attribute '__greet2'"
     ]
    }
   ],
   "source": [
    "class Person():\n",
    "    def set_name(self, name):\n",
    "        self.__name = name\n",
    "    \n",
    "    def get_name(self):\n",
    "        return self.__name\n",
    "    \n",
    "    def __greet2(self):\n",
    "        print(\"Hello, I'm {}\".format(self.__name))\n",
    "        \n",
    "    def greet(self):\n",
    "        self.__greet2()\n",
    "        \n",
    "\n",
    "qz = Person()\n",
    "qz.set_name(\"Qu Zheng\")\n",
    "\n",
    "qz.__greet2()\n",
    "    "
   ]
  },
  {
   "cell_type": "markdown",
   "metadata": {},
   "source": [
    "## stu继承person"
   ]
  },
  {
   "cell_type": "code",
   "execution_count": 5,
   "metadata": {},
   "outputs": [
    {
     "name": "stdout",
     "output_type": "stream",
     "text": [
      "my score is 100\n",
      "my score is 100\n"
     ]
    }
   ],
   "source": [
    "class Student(Person):\n",
    "    def set_score(self,score):\n",
    "        self.score = score\n",
    "    \n",
    "    def get_score(self):\n",
    "        return score\n",
    "    \n",
    "    def show_score(self):\n",
    "        print('my score is {}'.format(self.score))\n",
    "    \n",
    "    def greet(self):\n",
    "        self.show_score()\n",
    "\n",
    "qz = Student()\n",
    "qz.set_name(\"Qu Zheng\")\n",
    "qz.set_score(100)\n",
    "qz.greet()\n",
    "qz.show_score()"
   ]
  },
  {
   "cell_type": "markdown",
   "metadata": {},
   "source": [
    "## person2"
   ]
  },
  {
   "cell_type": "code",
   "execution_count": 14,
   "metadata": {},
   "outputs": [
    {
     "name": "stdout",
     "output_type": "stream",
     "text": [
      "Hello, I'm qz\n",
      "Invalid name when calling set_name.\n"
     ]
    }
   ],
   "source": [
    "class Person2:\n",
    "    def __init__(self, name = None):\n",
    "        if not name is None:\n",
    "            self.set_name(name)\n",
    "        \n",
    "    def set_name(self, name):\n",
    "        if isinstance(name, str):\n",
    "            self.__name = name\n",
    "        else:\n",
    "            print('Invalid name when calling set_name.')\n",
    "    \n",
    "    def get_name(self):\n",
    "        return self.__name\n",
    "    \n",
    "    def greet(self):\n",
    "        print(\"Hello, I'm {}\".format(self.__name))\n",
    "        \n",
    "\n",
    "qz = Person2('qz')\n",
    "qz.greet()\n",
    "    \n",
    "tr = Person2()\n",
    "tr.set_name(1)\n",
    "#tr.greet()"
   ]
  },
  {
   "cell_type": "markdown",
   "metadata": {},
   "source": [
    "## filter "
   ]
  },
  {
   "cell_type": "code",
   "execution_count": 21,
   "metadata": {},
   "outputs": [
    {
     "data": {
      "text/plain": [
       "[1, 2, 'SPAM', 'icecream']"
      ]
     },
     "execution_count": 21,
     "metadata": {},
     "output_type": "execute_result"
    }
   ],
   "source": [
    "class Filter:\n",
    "    def __init__(self):\n",
    "        self.blocked = []\n",
    "    \n",
    "    def filter(self, sequence):\n",
    "        return [x for x in sequence if x not in self.blocked]\n",
    "    \n",
    "    def add_item(self, item):\n",
    "        self.blocked.append(item)\n",
    "        \n",
    "class SpamFilter(Filter):\n",
    "    def __init__(self):\n",
    "        self.blocked = ['SPAM']\n",
    "    \n",
    "#f1 = SpamFilter()\n",
    "f2 = Filter()\n",
    "\n",
    "#f1.filter([1, 2, 'SPAM', 'icecream'])\n",
    "f2.filter([1, 2, 'SPAM', 'icecream'])"
   ]
  },
  {
   "cell_type": "code",
   "execution_count": 19,
   "metadata": {},
   "outputs": [
    {
     "data": {
      "text/plain": [
       "[1, 2, 'icecream']"
      ]
     },
     "execution_count": 19,
     "metadata": {},
     "output_type": "execute_result"
    }
   ],
   "source": [
    "f3 = Filter()\n",
    "f3.blocked = ['SPAM']\n",
    "f3.filter([1, 2, 'SPAM', 'icecream'])"
   ]
  },
  {
   "cell_type": "code",
   "execution_count": 26,
   "metadata": {},
   "outputs": [
    {
     "data": {
      "text/plain": [
       "[1, 2, 'icecream']"
      ]
     },
     "execution_count": 26,
     "metadata": {},
     "output_type": "execute_result"
    }
   ],
   "source": [
    "class Filter:\n",
    "    def __init__(self):\n",
    "        self.blocked = []\n",
    "        \n",
    "    def set_filter(self, filter):\n",
    "        self.blocked = filter\n",
    "    \n",
    "    def filter(self, sequence):\n",
    "        return [x for x in sequence if x not in self.blocked]\n",
    "    \n",
    "    def add_item(self, item):\n",
    "        self.blocked.append(item)\n",
    "\n",
    "f = Filter()\n",
    "f.set_filter(['SPAM'])\n",
    "f.filter([1, 2, 'SPAM', 'icecream'])\n",
    "\n",
    "        "
   ]
  },
  {
   "cell_type": "code",
   "execution_count": 25,
   "metadata": {},
   "outputs": [
    {
     "data": {
      "text/plain": [
       "[1, 2, 'icecream']"
      ]
     },
     "execution_count": 25,
     "metadata": {},
     "output_type": "execute_result"
    }
   ],
   "source": [
    "f1 = Filter()\n",
    "f1.add_item('SPAM')\n",
    "f1.filter([1, 2, 'SPAM', 'icecream'])"
   ]
  },
  {
   "cell_type": "markdown",
   "metadata": {},
   "source": [
    "## TalkingCALCULATOR:"
   ]
  },
  {
   "cell_type": "code",
   "execution_count": 37,
   "metadata": {},
   "outputs": [
    {
     "name": "stdout",
     "output_type": "stream",
     "text": [
      "My value is 7\n"
     ]
    }
   ],
   "source": [
    "class Calculator:    \n",
    "    def calculate(self, expression):\n",
    "        self.value = eval(expression)\n",
    "        \n",
    "class Talker:\n",
    "    def talk(self):\n",
    "        print('My value is {}'.format(self.value))\n",
    "        \n",
    "class TalkingCalculator(Calculator, Talker):\n",
    "    pass\n",
    "\n",
    "tc = TalkingCalculator()\n",
    "tc.calculate('1 + 2 * 3')\n",
    "tc.talk()\n"
   ]
  },
  {
   "cell_type": "code",
   "execution_count": 38,
   "metadata": {},
   "outputs": [
    {
     "name": "stdout",
     "output_type": "stream",
     "text": [
      "My value is 7\n"
     ]
    },
    {
     "data": {
      "text/plain": [
       "{'calculator': <__main__.Calculator at 0xe9929bedd8>,\n",
       " 'talker': <__main__.Talker at 0xe9929be588>}"
      ]
     },
     "execution_count": 38,
     "metadata": {},
     "output_type": "execute_result"
    }
   ],
   "source": [
    "class Calculator:    \n",
    "    def calculate(self, expression):\n",
    "        self.value = eval(expression)\n",
    "        \n",
    "class Talker:\n",
    "    def talk(self):\n",
    "        print('My value is {}'.format(self.value))\n",
    "        \n",
    "class TalkingCalculator(Calculator, Talker):\n",
    "    def __init__(self):\n",
    "        self.calculator = Calculator()\n",
    "        self.talker = Talker()\n",
    "    \n",
    "    def calculate(self, expression):\n",
    "        self.calculator.calculate(expression)\n",
    "        self.talker.value = self.calculator.value\n",
    "        self.talker.talk()\n",
    "\n",
    "\n",
    "tc = TalkingCalculator()\n",
    "tc.calculate('1 + 2 * 3')\n",
    "\n",
    "tc.__dict__"
   ]
  },
  {
   "cell_type": "markdown",
   "metadata": {},
   "source": [
    "## animals"
   ]
  },
  {
   "cell_type": "code",
   "execution_count": 39,
   "metadata": {},
   "outputs": [
    {
     "name": "stdout",
     "output_type": "stream",
     "text": [
      "wang wang\n",
      "miao miao\n",
      "wang wang\n",
      "i cannot talk, shit\n"
     ]
    }
   ],
   "source": [
    "class Dog:\n",
    "    def talk(self):\n",
    "        print('wang wang')\n",
    "    \n",
    "class Cat:\n",
    "    def talk(self):\n",
    "        print('miao miao')\n",
    "        \n",
    "class Turtle:\n",
    "    def __init__(self):\n",
    "        self.talk = False\n",
    "    #pass\n",
    "animals = []\n",
    "animals.append(Dog())\n",
    "animals.append(Cat())\n",
    "animals.append(Dog())\n",
    "animals.append(Turtle())\n",
    "\n",
    "for animal in animals:\n",
    "    if callable(getattr(animal, 'talk', None)):\n",
    "    #if hasattr(animal, 'talk'):\n",
    "        animal.talk()\n",
    "    else:\n",
    "        print('i cannot talk, shit')\n",
    "    "
   ]
  },
  {
   "cell_type": "code",
   "execution_count": 43,
   "metadata": {},
   "outputs": [
    {
     "name": "stdout",
     "output_type": "stream",
     "text": [
      "not a talking animal. Not admitted\n",
      "not a talking animal. Not admitted\n",
      "not a talking animal. Not admitted\n"
     ]
    }
   ],
   "source": [
    "#???\n",
    "\n",
    "class Dog:\n",
    "    def talk(self):\n",
    "        print('wang wang')\n",
    "    \n",
    "class Cat:\n",
    "    def talk(self):\n",
    "        print('miao miao')\n",
    "        \n",
    "class Turtle:\n",
    "    def __init__(self):\n",
    "        self.talk = False\n",
    "    \n",
    "class TalkerContainer:\n",
    "    def __init__(self):\n",
    "        self.__animals = []\n",
    "        \n",
    "    def add_talker(self, talker):\n",
    "        if isinstance(talker, Talker):\n",
    "            self.__animals.append(talker)\n",
    "        else: \n",
    "            print('not a talking animal. Not admitted')\n",
    "        \n",
    "    def talk(self):\n",
    "        for animal in self.__animals:\n",
    "            animal.talk()\n",
    "\n",
    "\n",
    "tc = TalkerContainer()      \n",
    "tc.add_talker(Dog())\n",
    "tc.add_talker(Cat())\n",
    "tc.add_talker(Turtle())\n",
    "\n",
    "\n"
   ]
  },
  {
   "cell_type": "code",
   "execution_count": null,
   "metadata": {},
   "outputs": [],
   "source": []
  }
 ],
 "metadata": {
  "kernelspec": {
   "display_name": "Python 3",
   "language": "python",
   "name": "python3"
  },
  "language_info": {
   "codemirror_mode": {
    "name": "ipython",
    "version": 3
   },
   "file_extension": ".py",
   "mimetype": "text/x-python",
   "name": "python",
   "nbconvert_exporter": "python",
   "pygments_lexer": "ipython3",
   "version": "3.6.4"
  }
 },
 "nbformat": 4,
 "nbformat_minor": 2
}

{
 "cells": [
  {
   "cell_type": "markdown",
   "metadata": {},
   "source": [
    "# phone number list"
   ]
  },
  {
   "cell_type": "code",
   "execution_count": 4,
   "metadata": {},
   "outputs": [],
   "source": [
    "name_list = ['quzheng', 'zhaoweiwei', 'tongrui', 'zhaoyu']\n",
    "phonenumber_list = [110, 111, 112, 113]"
   ]
  },
  {
   "cell_type": "code",
   "execution_count": 7,
   "metadata": {
    "scrolled": true
   },
   "outputs": [
    {
     "name": "stdout",
     "output_type": "stream",
     "text": [
      "0\n",
      "110\n"
     ]
    }
   ],
   "source": [
    "# get the index of the list\n",
    "\n",
    "index = name_list.index('quzheng')\n",
    "print(index)\n",
    "\n",
    "print(phonenumber_list[index])"
   ]
  },
  {
   "cell_type": "code",
   "execution_count": 8,
   "metadata": {},
   "outputs": [
    {
     "name": "stdout",
     "output_type": "stream",
     "text": [
      "110\n"
     ]
    }
   ],
   "source": [
    "print(phonenumber_list[name_list.index('quzheng')])"
   ]
  },
  {
   "cell_type": "markdown",
   "metadata": {},
   "source": [
    "# create dict"
   ]
  },
  {
   "cell_type": "code",
   "execution_count": 13,
   "metadata": {},
   "outputs": [
    {
     "name": "stdout",
     "output_type": "stream",
     "text": [
      "{'quzheng': 110, 'zhaoweiwei': 111, 'tongrui': 112, 'zhaoyu': 113}\n"
     ]
    }
   ],
   "source": [
    "# directly\n",
    "phonebook={'quzheng':110, 'zhaoweiwei':111, 'tongrui':112, 'zhaoyu':113}\n",
    "\n",
    "#from itemlist to dict\n",
    "item_list = [('quzheng',110), ('zhaoweiwei',111), ('tongrui',112), ('zhaoyu',113)]\n",
    "print(item_list)\n",
    "phonebook = dict(item_list)\n",
    "print(phonebook)"
   ]
  },
  {
   "cell_type": "code",
   "execution_count": 14,
   "metadata": {},
   "outputs": [
    {
     "name": "stdout",
     "output_type": "stream",
     "text": [
      "{'quzheng': 0, 'zhaoweiwei': 0, 'tongrui': 0, 'zhaoyu': 0}\n"
     ]
    }
   ],
   "source": [
    "phonebook = {}.fromkeys(name_list, 0)\n",
    "print(phonebook)"
   ]
  },
  {
   "cell_type": "code",
   "execution_count": 17,
   "metadata": {},
   "outputs": [
    {
     "name": "stdout",
     "output_type": "stream",
     "text": [
      "{'quzheng': 110, 'zhaoweiwei': 111, 'tongrui': 112, 'zhaoyu': 113}\n"
     ]
    }
   ],
   "source": [
    "phonebook = {}\n",
    "for index in range(4):\n",
    "    phonebook[name_list[index]] = phonenumber_list[index]\n",
    "print(phonebook)"
   ]
  },
  {
   "cell_type": "code",
   "execution_count": 18,
   "metadata": {},
   "outputs": [
    {
     "name": "stdout",
     "output_type": "stream",
     "text": [
      "{'quzheng': 110, 'zhaoweiwei': 111, 'tongrui': 112, 'zhaoyu': 113}\n"
     ]
    }
   ],
   "source": [
    "phonebook = {}\n",
    "for index in range(4):\n",
    "    name = name_list[index]\n",
    "    number = phonenumber_list[index]\n",
    "    phonebook[name] = number\n",
    "print(phonebook)"
   ]
  },
  {
   "cell_type": "code",
   "execution_count": 32,
   "metadata": {},
   "outputs": [
    {
     "name": "stdout",
     "output_type": "stream",
     "text": [
      "{'quzheng': 110, 'zhaoweiwei': 111, 'tongrui': 112, 'zhaoyu': 113}++{'zhaoyu': 113}\n"
     ]
    }
   ],
   "source": [
    "# update , print间隔\n",
    "phonebook_1 = {'quzheng': 110, 'zhaoweiwei': 111, 'tongrui': 112}\n",
    "phonebook_2 = {'zhaoyu': 113}\n",
    "phonebook_1.update(phonebook_2)\n",
    "print(phonebook_1, phonebook_2, sep='++')"
   ]
  },
  {
   "cell_type": "code",
   "execution_count": 22,
   "metadata": {},
   "outputs": [
    {
     "name": "stdout",
     "output_type": "stream",
     "text": [
      "{'tongrui': 112, 'zhaoyu': 113}\n"
     ]
    }
   ],
   "source": [
    "# pop(key);del dict[]\n",
    "phonebook={'quzheng':110, 'zhaoweiwei':111, 'tongrui':112, 'zhaoyu':113}\n",
    "phonebook.pop('quzheng')\n",
    "\n",
    "del phonebook['zhaoweiwei']\n",
    "print(phonebook)"
   ]
  },
  {
   "cell_type": "code",
   "execution_count": 23,
   "metadata": {},
   "outputs": [
    {
     "name": "stdout",
     "output_type": "stream",
     "text": [
      "OrderedDict([('quzheng', 110), ('zhaoweiwei', 111), ('tongrui', 112), ('zhaoyu', 113)])\n"
     ]
    }
   ],
   "source": [
    "# orderedcit\n",
    "from collections import OrderedDict\n",
    "Ordered_phonebook = OrderedDict()\n",
    "Ordered_phonebook['quzheng'] = 110\n",
    "Ordered_phonebook['zhaoweiwei'] = 111\n",
    "Ordered_phonebook['tongrui'] = 112\n",
    "Ordered_phonebook['zhaoyu'] = 113\n",
    "\n",
    "print(Ordered_phonebook)"
   ]
  },
  {
   "cell_type": "code",
   "execution_count": 27,
   "metadata": {},
   "outputs": [
    {
     "name": "stdout",
     "output_type": "stream",
     "text": [
      "{'quzheng': 110, 'zhaoweiwei': 111, 'tongrui': 112, 'zhaoyu': 113, 'wangzhichao': 114}\n",
      "{'quzheng': 110, 'zhaoweiwei': 111, 'tongrui': 112, 'zhaoyu': 113, 'wangzhichao': 114}\n"
     ]
    }
   ],
   "source": [
    "# shallow/deep copy\n",
    "\n",
    "phonebook={'quzheng':110, 'zhaoweiwei':111, 'tongrui':112, 'zhaoyu':113}\n",
    "new_phonebook = phonebook\n",
    "\n",
    "\n",
    "new_phonebook['wangzhichao'] = 114\n",
    "print(new_phonebook)\n",
    "print(phonebook)"
   ]
  },
  {
   "cell_type": "code",
   "execution_count": 28,
   "metadata": {},
   "outputs": [
    {
     "name": "stdout",
     "output_type": "stream",
     "text": [
      "{'zhaoweiwei': 111, 'tongrui': 112, 'zhaoyu': 113}\n",
      "{'quzheng': 110, 'zhaoweiwei': 111, 'tongrui': 112, 'zhaoyu': 113}\n"
     ]
    }
   ],
   "source": [
    "phonebook={'quzheng':110, 'zhaoweiwei':111, 'tongrui':112, 'zhaoyu':113}\n",
    "from copy import deepcopy\n",
    "new_phonebook = deepcopy(phonebook)\n",
    "del new_phonebook['quzheng']\n",
    "print(new_phonebook)\n",
    "print(phonebook)"
   ]
  },
  {
   "cell_type": "code",
   "execution_count": 30,
   "metadata": {},
   "outputs": [
    {
     "name": "stdout",
     "output_type": "stream",
     "text": [
      "None\n"
     ]
    }
   ],
   "source": [
    "# get有返回值\n",
    "\n",
    "#print(new_phonebook['quzheng'])\n",
    "print(new_phonebook.get('quzheng'))"
   ]
  },
  {
   "cell_type": "markdown",
   "metadata": {},
   "source": [
    "# compare list and dict"
   ]
  },
  {
   "cell_type": "code",
   "execution_count": 50,
   "metadata": {},
   "outputs": [
    {
     "name": "stdout",
     "output_type": "stream",
     "text": [
      "1000000\n",
      "10000000\n",
      "1000000\n",
      "10000000\n"
     ]
    }
   ],
   "source": [
    "list_1 = []\n",
    "list_2 = []\n",
    "dict_1 = {}\n",
    "dict_2 = {}\n",
    "\n",
    "for index in range(1000000):\n",
    "    list_1.append(index)\n",
    "    dict_1[index] = index\n",
    "for index in range(10000000):\n",
    "    list_2.append(index)\n",
    "    dict_2[index] = index\n",
    "    \n",
    "print(len(list_1))    \n",
    "print(len(list_2))\n",
    "print(len(dict_1))\n",
    "print(len(dict_2))"
   ]
  },
  {
   "cell_type": "code",
   "execution_count": 48,
   "metadata": {},
   "outputs": [
    {
     "name": "stdout",
     "output_type": "stream",
     "text": [
      "True\n",
      "True\n",
      "9.130420302404582\n"
     ]
    }
   ],
   "source": [
    "import datetime\n",
    "search_value = list_1[-1]\n",
    "start_time = datetime.datetime.now()\n",
    "print(search_value in list_1)\n",
    "end_time = datetime.datetime.now()\n",
    "time_1 = end_time - start_time\n",
    "\n",
    "search_value = list_2[-1]\n",
    "start_time = datetime.datetime.now()\n",
    "print(search_value in list_2)\n",
    "end_time = datetime.datetime.now()\n",
    "time_2 = end_time - start_time\n",
    "\n",
    "print(time_2/time_1)"
   ]
  },
  {
   "cell_type": "code",
   "execution_count": 54,
   "metadata": {},
   "outputs": [
    {
     "name": "stdout",
     "output_type": "stream",
     "text": [
      "True\n",
      "0:00:00\n",
      "True\n",
      "0:00:00\n"
     ]
    }
   ],
   "source": [
    "search_value = list(dict_1.keys())[-1]\n",
    "start_time = datetime.datetime.now()\n",
    "print(search_value in dict_1.keys())\n",
    "end_time = datetime.datetime.now()\n",
    "time = end_time - start_time\n",
    "print(time)\n",
    "\n",
    "search_value = list(dict_2.keys())[-1]\n",
    "start_time = datetime.datetime.now()\n",
    "print(search_value in dict_2.keys())\n",
    "end_time = datetime.datetime.now()\n",
    "time = end_time - start_time\n",
    "print(time)"
   ]
  },
  {
   "cell_type": "markdown",
   "metadata": {},
   "source": [
    "# import"
   ]
  },
  {
   "cell_type": "code",
   "execution_count": 56,
   "metadata": {},
   "outputs": [
    {
     "name": "stdout",
     "output_type": "stream",
     "text": [
      "3.0\n"
     ]
    }
   ],
   "source": [
    "import numpy as np\n",
    "variable1 = np.array([1,2,3,4,5])\n",
    "print(np.mean(variable1))"
   ]
  },
  {
   "cell_type": "code",
   "execution_count": 57,
   "metadata": {},
   "outputs": [
    {
     "name": "stdout",
     "output_type": "stream",
     "text": [
      "3.0\n"
     ]
    }
   ],
   "source": [
    "from numpy import mean \n",
    "print(mean(variable1))"
   ]
  },
  {
   "cell_type": "markdown",
   "metadata": {},
   "source": [
    "# print "
   ]
  },
  {
   "cell_type": "code",
   "execution_count": 58,
   "metadata": {},
   "outputs": [
    {
     "name": "stdout",
     "output_type": "stream",
     "text": [
      "1 [2, 3] 4\n"
     ]
    }
   ],
   "source": [
    "x,*y,z = 1, 2, 3, 4\n",
    "print(x,y,z)"
   ]
  },
  {
   "cell_type": "code",
   "execution_count": 59,
   "metadata": {},
   "outputs": [
    {
     "name": "stdout",
     "output_type": "stream",
     "text": [
      "2 1\n"
     ]
    }
   ],
   "source": [
    "# exchange the value\n",
    "x,y = 1,2 \n",
    "y,x = x,y\n",
    "\n",
    "print(x,y)"
   ]
  },
  {
   "cell_type": "code",
   "execution_count": null,
   "metadata": {},
   "outputs": [],
   "source": []
  }
 ],
 "metadata": {
  "kernelspec": {
   "display_name": "Python 3",
   "language": "python",
   "name": "python3"
  },
  "language_info": {
   "codemirror_mode": {
    "name": "ipython",
    "version": 3
   },
   "file_extension": ".py",
   "mimetype": "text/x-python",
   "name": "python",
   "nbconvert_exporter": "python",
   "pygments_lexer": "ipython3",
   "version": "3.6.4"
  }
 },
 "nbformat": 4,
 "nbformat_minor": 2
}

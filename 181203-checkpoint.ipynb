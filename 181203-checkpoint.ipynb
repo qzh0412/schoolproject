{
 "cells": [
  {
   "cell_type": "markdown",
   "metadata": {},
   "source": [
    "# 静态"
   ]
  },
  {
   "cell_type": "code",
   "execution_count": 3,
   "metadata": {},
   "outputs": [
    {
     "name": "stdout",
     "output_type": "stream",
     "text": [
      "this is a static method\n",
      "this is a class method of <class '__main__.MyClass'>\n",
      "this is a normal method.\n"
     ]
    }
   ],
   "source": [
    "#静态不用self\n",
    "class MyClass:\n",
    "    def smeth():\n",
    "        print('this is a static method')\n",
    "    \n",
    "    smeth = staticmethod(smeth)\n",
    "    \n",
    "    def cmeth(cls):\n",
    "        print('this is a class method of', cls)\n",
    "        \n",
    "    cmeth = classmethod(cmeth)\n",
    "    \n",
    "    def meth(self):\n",
    "        print('this is a normal method.')\n",
    "        \n",
    "MyClass.smeth()\n",
    "MyClass.cmeth()\n",
    "my_object = MyClass()\n",
    "my_object.meth()"
   ]
  },
  {
   "cell_type": "markdown",
   "metadata": {},
   "source": [
    "# __setattr__ 设置参数"
   ]
  },
  {
   "cell_type": "code",
   "execution_count": 4,
   "metadata": {},
   "outputs": [],
   "source": [
    "class Rectangle:\n",
    "    def __init__(self):\n",
    "        self.height = 0\n",
    "        self.width = 0\n",
    "    def __setattr__(self, name, value):\n",
    "        if name == 'size':\n",
    "            self.width, self.height = value\n",
    "        else:\n",
    "            self.__dict__[name] = value\n",
    "    def __getattr__(self, name):\n",
    "        if name == 'size':\n",
    "            return self.width, self.height \n",
    "        else: raise AttributeError()"
   ]
  },
  {
   "cell_type": "code",
   "execution_count": 5,
   "metadata": {},
   "outputs": [
    {
     "data": {
      "text/plain": [
       "(10, 20)"
      ]
     },
     "execution_count": 5,
     "metadata": {},
     "output_type": "execute_result"
    }
   ],
   "source": [
    "r = Rectangle()\n",
    "r.size = 10,20\n",
    "r.size"
   ]
  },
  {
   "cell_type": "markdown",
   "metadata": {},
   "source": [
    "# 迭代"
   ]
  },
  {
   "cell_type": "code",
   "execution_count": 1,
   "metadata": {},
   "outputs": [],
   "source": [
    "class Fibs:\n",
    "    def __init__(self, fmax=None):\n",
    "        self.a = 0\n",
    "        self.b = 1\n",
    "        self.fmax = fmax\n",
    "    def __next__(self):\n",
    "        self.a, self.b = self.b, self.a + self.b\n",
    "        if self.fmax == None or self.a <= self.fmax:\n",
    "            return self.a\n",
    "        else:\n",
    "            raise StopIteration\n",
    "    def __iter__(self):\n",
    "        return self"
   ]
  },
  {
   "cell_type": "code",
   "execution_count": 2,
   "metadata": {},
   "outputs": [
    {
     "name": "stdout",
     "output_type": "stream",
     "text": [
      "1 1 2 3 5 8 13 21 34 55 89 144 233 377 610 987 1597 2584 4181 6765 10946 17711 "
     ]
    }
   ],
   "source": [
    "for i in Fibs(20000):\n",
    "    print(i, end=' ')"
   ]
  },
  {
   "cell_type": "markdown",
   "metadata": {},
   "source": [
    "# 构造器"
   ]
  },
  {
   "cell_type": "code",
   "execution_count": 15,
   "metadata": {},
   "outputs": [],
   "source": [
    "#拆数组反复访问数组\n",
    "def flatten(nested):\n",
    "    result = list()\n",
    "    for item in nested:\n",
    "        try: \n",
    "            sub_result = flatten(item)\n",
    "            for sub_item in sub_result:\n",
    "                result.append(sub_item)\n",
    "        except TypeError:\n",
    "                result.append(item)\n",
    "            \n",
    "    return result"
   ]
  },
  {
   "cell_type": "code",
   "execution_count": 17,
   "metadata": {},
   "outputs": [
    {
     "data": {
      "text/plain": [
       "[1, 2, 3, 4, 5]"
      ]
     },
     "execution_count": 17,
     "metadata": {},
     "output_type": "execute_result"
    }
   ],
   "source": [
    "nest = [1, 2, [3,4], 5]\n",
    "flatten_list = flatten(nest)\n",
    "flatten_list"
   ]
  },
  {
   "cell_type": "code",
   "execution_count": 19,
   "metadata": {},
   "outputs": [
    {
     "data": {
      "text/plain": [
       "[1, 2, 3, 4, 5]"
      ]
     },
     "execution_count": 19,
     "metadata": {},
     "output_type": "execute_result"
    }
   ],
   "source": [
    "#yield 不消耗栈\n",
    "\n",
    "def flatten2(nested):\n",
    "    result = list()\n",
    "    for item in nested:\n",
    "        try: \n",
    "            sub_result = flatten(item)\n",
    "            for sub_item in sub_result: yield sub_item\n",
    "        except TypeError:\n",
    "               yield item\n",
    "            \n",
    "    return result\n",
    "\n",
    "nest = [1, 2, [3,4], 5]\n",
    "flatten_list = list(flatten2(nest))\n",
    "flatten_list"
   ]
  },
  {
   "cell_type": "code",
   "execution_count": 21,
   "metadata": {},
   "outputs": [
    {
     "data": {
      "text/plain": [
       "['t1', 't2', 't3', 't4', 't5']"
      ]
     },
     "execution_count": 21,
     "metadata": {},
     "output_type": "execute_result"
    }
   ],
   "source": [
    "# 筛选字符串\n",
    "\n",
    "def flatten3(nested):\n",
    "    try:\n",
    "        try: nested + '' #只有字符串可以串联\n",
    "        except TypeError: pass\n",
    "        else: raise TypeError\n",
    "            \n",
    "\n",
    "        for item in nested:\n",
    "            try: \n",
    "                for sub_item in flatten3(item): yield sub_item\n",
    "            except TypeError:\n",
    "                   yield item\n",
    "    except TypeError: yield nested\n",
    "        \n",
    "        \n",
    "strings = ['t1', ['t2'], ['t3', ['t4', 't5']]]\n",
    "flatten_strings = list(flatten3(strings))\n",
    "flatten_strings"
   ]
  },
  {
   "cell_type": "markdown",
   "metadata": {},
   "source": [
    "# 模块"
   ]
  },
  {
   "cell_type": "code",
   "execution_count": 27,
   "metadata": {},
   "outputs": [],
   "source": [
    "#引入非目标文件夹下的模块\n",
    "# from    import *\n",
    "# 查看pancage下面所有的模块 dir() / babel.__doc__\n",
    "import sys\n",
    "sys.path.append(r' ') #添加路径"
   ]
  },
  {
   "cell_type": "code",
   "execution_count": 23,
   "metadata": {},
   "outputs": [
    {
     "name": "stdout",
     "output_type": "stream",
     "text": [
      "hello world\n"
     ]
    }
   ],
   "source": [
    "#main单独测试\n",
    "def hello():\n",
    "    print('hello world')\n",
    "def test():\n",
    "    hello()\n",
    "if __name__ == '__main__':\n",
    "    test()"
   ]
  },
  {
   "cell_type": "code",
   "execution_count": 24,
   "metadata": {},
   "outputs": [
    {
     "name": "stdout",
     "output_type": "stream",
     "text": [
      "hello world\n"
     ]
    }
   ],
   "source": [
    "hello()"
   ]
  }
 ],
 "metadata": {
  "kernelspec": {
   "display_name": "Python 3",
   "language": "python",
   "name": "python3"
  },
  "language_info": {
   "codemirror_mode": {
    "name": "ipython",
    "version": 3
   },
   "file_extension": ".py",
   "mimetype": "text/x-python",
   "name": "python",
   "nbconvert_exporter": "python",
   "pygments_lexer": "ipython3",
   "version": "3.6.4"
  }
 },
 "nbformat": 4,
 "nbformat_minor": 2
}

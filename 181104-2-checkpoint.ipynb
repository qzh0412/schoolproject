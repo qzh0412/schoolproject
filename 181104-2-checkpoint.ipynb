{
 "cells": [
  {
   "cell_type": "code",
   "execution_count": 1,
   "metadata": {},
   "outputs": [
    {
     "data": {
      "text/plain": [
       "['wang55+wang5', 'zhang33+zhang3', 'li44+li4']"
      ]
     },
     "execution_count": 1,
     "metadata": {},
     "output_type": "execute_result"
    }
   ],
   "source": [
    "girls = ['zhang3','li4','wang5']\n",
    "boys = ['wang55','zhang33','li44']\n",
    "\n",
    "[ b + '+' + g for b in boys for g in girls if b[0] == g[0]]"
   ]
  },
  {
   "cell_type": "code",
   "execution_count": 3,
   "metadata": {},
   "outputs": [
    {
     "name": "stdout",
     "output_type": "stream",
     "text": [
      "{'z': ['zhang3'], 'l': ['li4'], 'w': ['wang5']}\n"
     ]
    }
   ],
   "source": [
    "lettergirls = {}\n",
    "for girl in girls: \n",
    "    lettergirls.setdefault(girl[0],[]).append(girl)\n",
    "print(lettergirls)"
   ]
  },
  {
   "cell_type": "code",
   "execution_count": 4,
   "metadata": {},
   "outputs": [
    {
     "name": "stdout",
     "output_type": "stream",
     "text": [
      "{0: '0 squared is 0', 1: '1 squared is 1', 2: '2 squared is 4', 3: '3 squared is 9', 4: '4 squared is 16', 5: '5 squared is 25', 6: '6 squared is 36', 7: '7 squared is 49', 8: '8 squared is 64', 9: '9 squared is 81'}\n"
     ]
    }
   ],
   "source": [
    "squares = {i: '{} squared is {}'.format(i, i**2) for i in range(10)}\n",
    "print(squares)"
   ]
  },
  {
   "cell_type": "code",
   "execution_count": 7,
   "metadata": {},
   "outputs": [
    {
     "name": "stdout",
     "output_type": "stream",
     "text": [
      "how many fib numbers do you want?:8\n",
      "[0, 1, 1, 2, 3, 5, 8, 13, 21, 34]\n"
     ]
    },
    {
     "data": {
      "text/plain": [
       "'print fib numbers of given length'"
      ]
     },
     "execution_count": 7,
     "metadata": {},
     "output_type": "execute_result"
    }
   ],
   "source": [
    "def fibs(num):\n",
    "    'print fib numbers of given length'\n",
    "    result = [0,1]\n",
    "    for i in range(num):\n",
    "        result.append(result[-1] + result[-2])\n",
    "    print(result)\n",
    "\n",
    "fibs(int(input('how many fib numbers do you want?:')))\n",
    "fibs.__doc__"
   ]
  },
  {
   "cell_type": "markdown",
   "metadata": {},
   "source": [
    "# name storage"
   ]
  },
  {
   "cell_type": "code",
   "execution_count": 8,
   "metadata": {},
   "outputs": [],
   "source": [
    "def lookup(data, label, name):\n",
    "    return data[label].get(name)"
   ]
  },
  {
   "cell_type": "code",
   "execution_count": 12,
   "metadata": {},
   "outputs": [],
   "source": [
    "def store(data, full_name):\n",
    "    names = full_name.split()\n",
    "    if len(names)==2:\n",
    "        names.insert(1,'')\n",
    "    labels = 'first','middle','last'\n",
    "    for label, name in zip(labels, names):\n",
    "        people = lookup(data, label, name)\n",
    "        if people: # no new label to be added up\n",
    "            people.append(full_name)\n",
    "        else:\n",
    "            data[label][name] = [full_name]\n",
    "            "
   ]
  },
  {
   "cell_type": "code",
   "execution_count": 15,
   "metadata": {},
   "outputs": [],
   "source": [
    "def init(data):\n",
    "    data['first'] = {}\n",
    "    data['middle'] = {}\n",
    "    data['last'] = {}\n",
    "Mynames = {}\n",
    "init(Mynames)"
   ]
  },
  {
   "cell_type": "code",
   "execution_count": 16,
   "metadata": {},
   "outputs": [
    {
     "name": "stdout",
     "output_type": "stream",
     "text": [
      "{'first': {'Anna': ['Anna Lie Hetland']}, 'middle': {'Lie': ['Anna Lie Hetland']}, 'last': {'Hetland': ['Anna Lie Hetland']}}\n"
     ]
    }
   ],
   "source": [
    "store(Mynames, 'Anna Lie Hetland')\n",
    "print(Mynames)"
   ]
  },
  {
   "cell_type": "code",
   "execution_count": 17,
   "metadata": {},
   "outputs": [
    {
     "name": "stdout",
     "output_type": "stream",
     "text": [
      "{'first': {'Anna': ['Anna Lie Hetland'], 'Zheng': ['Zheng Qu']}, 'middle': {'Lie': ['Anna Lie Hetland'], '': ['Zheng Qu']}, 'last': {'Hetland': ['Anna Lie Hetland'], 'Qu': ['Zheng Qu']}}\n"
     ]
    }
   ],
   "source": [
    "store(Mynames, 'Zheng Qu')\n",
    "print(Mynames)"
   ]
  }
 ],
 "metadata": {
  "kernelspec": {
   "display_name": "Python 3",
   "language": "python",
   "name": "python3"
  },
  "language_info": {
   "codemirror_mode": {
    "name": "ipython",
    "version": 3
   },
   "file_extension": ".py",
   "mimetype": "text/x-python",
   "name": "python",
   "nbconvert_exporter": "python",
   "pygments_lexer": "ipython3",
   "version": "3.6.4"
  }
 },
 "nbformat": 4,
 "nbformat_minor": 2
}

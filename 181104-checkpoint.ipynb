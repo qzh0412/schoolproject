{
 "cells": [
  {
   "cell_type": "markdown",
   "metadata": {},
   "source": [
    "# bool "
   ]
  },
  {
   "cell_type": "code",
   "execution_count": 1,
   "metadata": {},
   "outputs": [
    {
     "data": {
      "text/plain": [
       "False"
      ]
     },
     "execution_count": 1,
     "metadata": {},
     "output_type": "execute_result"
    }
   ],
   "source": [
    "bool(None)"
   ]
  },
  {
   "cell_type": "code",
   "execution_count": 2,
   "metadata": {},
   "outputs": [
    {
     "data": {
      "text/plain": [
       "True"
      ]
     },
     "execution_count": 2,
     "metadata": {},
     "output_type": "execute_result"
    }
   ],
   "source": [
    "bool('a')"
   ]
  },
  {
   "cell_type": "markdown",
   "metadata": {},
   "source": [
    "# if  elif  else"
   ]
  },
  {
   "cell_type": "code",
   "execution_count": 5,
   "metadata": {},
   "outputs": [
    {
     "name": "stdout",
     "output_type": "stream",
     "text": [
      "please input your score: 40\n",
      "keep on working hard!\n"
     ]
    }
   ],
   "source": [
    "# score\n",
    "score = int(input('please input your score: '))\n",
    "if score == 100: \n",
    "    print('great!')\n",
    "elif score >= 60:\n",
    "    print('get better next time!')\n",
    "else :\n",
    "    print('keep on working hard!')"
   ]
  },
  {
   "cell_type": "code",
   "execution_count": 14,
   "metadata": {},
   "outputs": [
    {
     "name": "stdout",
     "output_type": "stream",
     "text": [
      "please input your year: 1996\n",
      "leap year\n"
     ]
    }
   ],
   "source": [
    "# leap year\n",
    "year = int(input('please input your year: '))\n",
    "if ( year % 400 == 0) or ( year % 4 == 0 and year % 100):\n",
    "    print('leap year')\n",
    "else :\n",
    "    print('not leap year')"
   ]
  },
  {
   "cell_type": "markdown",
   "metadata": {},
   "source": [
    "# 字符串相关"
   ]
  },
  {
   "cell_type": "code",
   "execution_count": 20,
   "metadata": {},
   "outputs": [
    {
     "data": {
      "text/plain": [
       "False"
      ]
     },
     "execution_count": 20,
     "metadata": {},
     "output_type": "execute_result"
    }
   ],
   "source": [
    "'hello'.lower() > 'world'.lower()"
   ]
  },
  {
   "cell_type": "code",
   "execution_count": 16,
   "metadata": {},
   "outputs": [
    {
     "data": {
      "text/plain": [
       "'🙈'"
      ]
     },
     "execution_count": 16,
     "metadata": {},
     "output_type": "execute_result"
    }
   ],
   "source": [
    "chr(128584)"
   ]
  },
  {
   "cell_type": "code",
   "execution_count": 17,
   "metadata": {},
   "outputs": [
    {
     "data": {
      "text/plain": [
       "97"
      ]
     },
     "execution_count": 17,
     "metadata": {},
     "output_type": "execute_result"
    }
   ],
   "source": [
    "ord('a')"
   ]
  },
  {
   "cell_type": "markdown",
   "metadata": {},
   "source": [
    "# 逻辑运算相关"
   ]
  },
  {
   "cell_type": "code",
   "execution_count": 18,
   "metadata": {},
   "outputs": [
    {
     "data": {
      "text/plain": [
       "False"
      ]
     },
     "execution_count": 18,
     "metadata": {},
     "output_type": "execute_result"
    }
   ],
   "source": [
    "3 > 4 and 2 > 100"
   ]
  },
  {
   "cell_type": "markdown",
   "metadata": {},
   "source": [
    "# while"
   ]
  },
  {
   "cell_type": "code",
   "execution_count": 22,
   "metadata": {},
   "outputs": [
    {
     "name": "stdout",
     "output_type": "stream",
     "text": [
      "1 2 4 5 7 8 10 11 14 16 17 19 20 22 25 26 28 29 40 41 44 46 47 49 50 52 55 56 58 59 61 62 64 65 67 68 70 71 74 76 77 79 80 82 85 86 88 89 91 92 94 95 97 98 100 "
     ]
    }
   ],
   "source": [
    "# 逢3跳过\n",
    "x = 1\n",
    "while x <= 100:\n",
    "    if x % 3 == 0 or '3' in '{}'.format(x):\n",
    "        pass\n",
    "    else:\n",
    "        print(x, end=' ')\n",
    "    x += 1\n"
   ]
  },
  {
   "cell_type": "code",
   "execution_count": 27,
   "metadata": {},
   "outputs": [
    {
     "name": "stdout",
     "output_type": "stream",
     "text": [
      "\b                                                           *"
     ]
    }
   ],
   "source": [
    "# little star\n",
    "\n",
    "import math\n",
    "x = 1\n",
    "while x < 60:\n",
    "    print('\\b *', end='')\n",
    "    y = 0\n",
    "    while y < 500000:\n",
    "        z = math.sin(x) * math.exp(x)\n",
    "        y = y+1 \n",
    "    x += 1"
   ]
  },
  {
   "cell_type": "markdown",
   "metadata": {},
   "source": [
    "# split"
   ]
  },
  {
   "cell_type": "code",
   "execution_count": 29,
   "metadata": {},
   "outputs": [
    {
     "name": "stdout",
     "output_type": "stream",
     "text": [
      "please input your sentence:hello this is a test\n",
      "hello 5\n",
      "this 4\n",
      "is 2\n",
      "a 1\n",
      "test 4\n"
     ]
    }
   ],
   "source": [
    "str = input('please input your sentence:')\n",
    "for word in str.split():\n",
    "    print(word, len(word))"
   ]
  },
  {
   "cell_type": "markdown",
   "metadata": {},
   "source": [
    "# bar.**"
   ]
  },
  {
   "cell_type": "code",
   "execution_count": 57,
   "metadata": {},
   "outputs": [
    {
     "name": "stdout",
     "output_type": "stream",
     "text": [
      "*                                                                              *\r"
     ]
    }
   ],
   "source": [
    "import math\n",
    "bar = list()\n",
    "for i in range(0,80):    \n",
    "    bar.append(' ')\n",
    "    \n",
    "x = 0\n",
    "y = 79            \n",
    "for j in range(0,80): \n",
    "    bar[x] = '*'\n",
    "    bar[y] = '*'  \n",
    "    for ch in bar:\n",
    "        print(ch, sep='', end='')\n",
    "    \n",
    "    for k in range(0,1000000):\n",
    "        math.sin(j) * math.exp(j)\n",
    "    bar[x] = ' '\n",
    "    bar[y] = ' '\n",
    "    x += 1\n",
    "    y -= 1\n",
    "    print('\\r',end='')\n",
    " \n",
    "        \n",
    "\n"
   ]
  },
  {
   "cell_type": "code",
   "execution_count": null,
   "metadata": {},
   "outputs": [],
   "source": []
  }
 ],
 "metadata": {
  "kernelspec": {
   "display_name": "Python 3",
   "language": "python",
   "name": "python3"
  },
  "language_info": {
   "codemirror_mode": {
    "name": "ipython",
    "version": 3
   },
   "file_extension": ".py",
   "mimetype": "text/x-python",
   "name": "python",
   "nbconvert_exporter": "python",
   "pygments_lexer": "ipython3",
   "version": "3.6.4"
  }
 },
 "nbformat": 4,
 "nbformat_minor": 2
}
